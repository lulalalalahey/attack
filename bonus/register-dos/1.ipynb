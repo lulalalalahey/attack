import requests
import threading
import random
import string
from concurrent.futures import ThreadPoolExecutor

# ======================== 配置区域 ========================
TARGET_URL = "http://localhost:8000/register"   # 🛠 替换成目标注册接口
THREADS = 20                                     # 并发线程数
TOTAL_REQUESTS = 500                             # 总注册次数
# 模拟的请求数据格式（按需调整参数名）
def gen_form():
    username = "user_" + ''.join(random.choices(string.ascii_letters + string.digits, k=6))
    email = username + "@test.com"
    return {
        "username": username,
        "email": email,
        "password": "123456",
        "confirm": "123456"
    }
# ========================================================

def register(index):
    try:
        r = requests.post(TARGET_URL, data=gen_form(), timeout=5)
        if r.status_code == 200:
            print(f"[{index}] ✅ 注册成功")
        else:
            print(f"[{index}] ❌ 失败，状态码：{r.status_code}")
    except Exception as e:
        print(f"[{index}] ❌ 错误：{str(e)}")

def run():
    print(f"[*] 开始疯狂注册：{TOTAL_REQUESTS} 次，{THREADS} 并发线程...")
    with ThreadPoolExecutor(max_workers=THREADS) as executor:
        for i in range(TOTAL_REQUESTS):
            executor.submit(register, i+1)

if __name__ == "__main__":
    run()
